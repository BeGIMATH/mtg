{
 "metadata": {
  "name": "",
  "signature": "sha256:4243027b25808c6f43e79c8cf8c277a88de5b8a75b5ac9717e99fffd4e35e514"
 },
 "nbformat": 3,
 "nbformat_minor": 0,
 "worksheets": [
  {
   "cells": [
    {
     "cell_type": "code",
     "collapsed": false,
     "input": [
      "%gui qt\n",
      "import openalea.mtg\n",
      "from openalea.deploy.shared_data import shared_data\n",
      "data = shared_data(openalea.mtg)\n"
     ],
     "language": "python",
     "metadata": {},
     "outputs": [],
     "prompt_number": 1
    },
    {
     "cell_type": "code",
     "collapsed": false,
     "input": [
      "from openalea.mtg import *\n",
      "g = MTG(data/'noylum2.mtg')"
     ],
     "language": "python",
     "metadata": {},
     "outputs": [],
     "prompt_number": 2
    },
    {
     "cell_type": "code",
     "collapsed": false,
     "input": [
      "dressing_data = plantframe.DressingData(DiameterUnit=10)"
     ],
     "language": "python",
     "metadata": {},
     "outputs": [],
     "prompt_number": 3
    },
    {
     "cell_type": "code",
     "collapsed": false,
     "input": [
      "pf = plantframe.PlantFrame(g,\n",
      "                       TopDiameter='TopDia',\n",
      "                       DressingData = dressing_data)\n"
     ],
     "language": "python",
     "metadata": {},
     "outputs": [],
     "prompt_number": 4
    },
    {
     "cell_type": "code",
     "collapsed": false,
     "input": [
      "pf.plot(gc=True)"
     ],
     "language": "python",
     "metadata": {},
     "outputs": [
      {
       "metadata": {},
       "output_type": "pyout",
       "prompt_number": 5,
       "text": [
        "<openalea.plantgl.scenegraph._pglsg.Scene at 0x10e1dffa0>"
       ]
      }
     ],
     "prompt_number": 5
    },
    {
     "cell_type": "markdown",
     "metadata": {},
     "source": [
      "###Plotting at different scales"
     ]
    },
    {
     "cell_type": "code",
     "collapsed": false,
     "input": [
      "from openalea.plantgl.all import *\n",
      "def plot(pf, *args, **kwds):\n",
      "    \"\"\" Plot a MTG.\n",
      "\n",
      "    :Optional Parameters:\n",
      "        - origins : list of 3D points\n",
      "        - visitor : a function f(g, v, turtle)\n",
      "            This function is called for each vertex of the MTG.\n",
      "        - gc : (bool) generalised cylinder\n",
      "        - turtle: specify the turtle object\n",
      "\n",
      "    \"\"\"\n",
      "    self = pf\n",
      "    g = self.g\n",
      "    max_scale = g.max_scale()\n",
      "    # computed properties\n",
      "    diameters = self.compute_diameter()\n",
      "    points = self.points\n",
      "\n",
      "    origins = kwds.get('origins', [self.origin])\n",
      "\n",
      "    def plantframe_visitor(g, v, turtle):\n",
      "        radius = diameters.get(v)\n",
      "        if radius: \n",
      "            radius = radius /2.\n",
      "        else:\n",
      "            vm = g.component_roots_at_scale_iter(v, scale=max_scale).next()\n",
      "            radius = diameters.get(vm)/2.\n",
      "        if points:\n",
      "            pt = points.get(v)\n",
      "            if not pt and scale != max_scale:\n",
      "                vm = g.component_roots_at_scale_iter(v, scale=max_scale).next()\n",
      "                pt = points.get(vm)\n",
      "\n",
      "            if pt:\n",
      "                turtle.setId(v)\n",
      "                turtle.lineTo(pt, radius)\n",
      "        else:\n",
      "            turtle.setId(v)\n",
      "            if g.edge_type(v) == '+':\n",
      "                turtle.down()\n",
      "            turtle.F()\n",
      "            if radius:\n",
      "                turtle.setWidth(radius)\n",
      "            turtle.rollL()\n",
      "\n",
      "\n",
      "    visitor = kwds.get('visitor', plantframe_visitor)\n",
      "    gc = kwds.get('gc', True)\n",
      "    _turtle = kwds.get('turtle', None)\n",
      "\n",
      "    if not _turtle:\n",
      "        _turtle = PglTurtle()\n",
      "\n",
      "    scale = kwds.get('scale', g.max_scale())\n",
      "    roots = g.roots(scale=scale)\n",
      "    for i, rid in enumerate(roots):\n",
      "        if len(origins) > i:\n",
      "            origin = origins[i]\n",
      "        else:\n",
      "            origin = (0,0,0)\n",
      "        _turtle.move(origin)\n",
      "        d = diameters.get(rid)\n",
      "        if not d and scale != max_scale:\n",
      "            vm = g.component_roots_at_scale_iter(rid, scale=max_scale).next()\n",
      "            d = diameters.get(vm)\n",
      "        if d:\n",
      "            _turtle.setWidth(d)\n",
      "        turtle.traverse_with_turtle(g, rid, visitor=visitor, turtle=_turtle, gc=gc)\n",
      "\n",
      "    scene = _turtle.getScene()\n",
      "\n",
      "    if kwds.get('display',True):\n",
      "        Viewer.display(scene)\n",
      "    return scene\n",
      "\n",
      "print g.max_scale()"
     ],
     "language": "python",
     "metadata": {},
     "outputs": [
      {
       "output_type": "stream",
       "stream": "stdout",
       "text": [
        "3\n"
       ]
      }
     ],
     "prompt_number": 21
    },
    {
     "cell_type": "code",
     "collapsed": false,
     "input": [
      "plot(pf, scale=1)"
     ],
     "language": "python",
     "metadata": {},
     "outputs": [
      {
       "metadata": {},
       "output_type": "pyout",
       "prompt_number": 24,
       "text": [
        "<openalea.plantgl.scenegraph._pglsg.Scene at 0x114a57bb0>"
       ]
      }
     ],
     "prompt_number": 24
    },
    {
     "cell_type": "code",
     "collapsed": false,
     "input": [],
     "language": "python",
     "metadata": {},
     "outputs": []
    }
   ],
   "metadata": {}
  }
 ]
}